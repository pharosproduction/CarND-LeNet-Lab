{
 "cells": [
  {
   "cell_type": "markdown",
   "metadata": {},
   "source": [
    "# LeNet Lab\n",
    "![LeNet Architecture](lenet.png)\n",
    "Source: Yan LeCun"
   ]
  },
  {
   "cell_type": "code",
   "execution_count": 1,
   "metadata": {
    "collapsed": true
   },
   "outputs": [],
   "source": [
    "import time\n",
    "from functools import wraps\n",
    "\n",
    "PROF_DATA = {}\n",
    "\n",
    "def profile(fn):\n",
    "    @wraps(fn)\n",
    "    def with_profiling(*args, **kwargs):\n",
    "        start_time = time.time()\n",
    "\n",
    "        ret = fn(*args, **kwargs)\n",
    "\n",
    "        elapsed_time = time.time() - start_time\n",
    "\n",
    "        if fn.__name__ not in PROF_DATA:\n",
    "            PROF_DATA[fn.__name__] = [0, []]\n",
    "            \n",
    "        PROF_DATA[fn.__name__][0] += 1\n",
    "        PROF_DATA[fn.__name__][1].append(elapsed_time)\n",
    "\n",
    "        return ret\n",
    "\n",
    "    return with_profiling\n",
    "\n",
    "def print_prof_data():\n",
    "    for fname, data in PROF_DATA.items():\n",
    "        max_time = max(data[1])\n",
    "        avg_time = sum(data[1]) / len(data[1])\n",
    "        print('Function {} called {} times.'.format(fname, data[0]))\n",
    "        print('Execution time max: {:.3f}, average: {:.3f}'.format(max_time, avg_time))\n",
    "\n",
    "def clear_prof_data():\n",
    "    global PROF_DATA\n",
    "    PROF_DATA = {}"
   ]
  },
  {
   "cell_type": "markdown",
   "metadata": {},
   "source": [
    "## Load Data\n",
    "\n",
    "Load the MNIST data, which comes pre-loaded with TensorFlow.\n",
    "\n",
    "You do not need to modify this section."
   ]
  },
  {
   "cell_type": "code",
   "execution_count": 2,
   "metadata": {},
   "outputs": [
    {
     "name": "stdout",
     "output_type": "stream",
     "text": [
      "Extracting MNIST_data/train-images-idx3-ubyte.gz\n",
      "Extracting MNIST_data/train-labels-idx1-ubyte.gz\n",
      "Extracting MNIST_data/t10k-images-idx3-ubyte.gz\n",
      "Extracting MNIST_data/t10k-labels-idx1-ubyte.gz\n",
      "\n",
      "Image Shape: (28, 28, 1)\n",
      "\n",
      "Training Set:   55000 samples\n",
      "Validation Set: 5000 samples\n",
      "Test Set:       10000 samples\n"
     ]
    }
   ],
   "source": [
    "from tensorflow.examples.tutorials.mnist import input_data\n",
    "\n",
    "mnist = input_data.read_data_sets(\"MNIST_data/\", reshape=False)\n",
    "X_train, y_train           = mnist.train.images, mnist.train.labels\n",
    "X_validation, y_validation = mnist.validation.images, mnist.validation.labels\n",
    "X_test, y_test             = mnist.test.images, mnist.test.labels\n",
    "\n",
    "assert(len(X_train) == len(y_train))\n",
    "assert(len(X_validation) == len(y_validation))\n",
    "assert(len(X_test) == len(y_test))\n",
    "\n",
    "print()\n",
    "print(\"Image Shape: {}\".format(X_train[0].shape))\n",
    "print()\n",
    "print(\"Training Set:   {} samples\".format(len(X_train)))\n",
    "print(\"Validation Set: {} samples\".format(len(X_validation)))\n",
    "print(\"Test Set:       {} samples\".format(len(X_test)))"
   ]
  },
  {
   "cell_type": "markdown",
   "metadata": {},
   "source": [
    "The MNIST data that TensorFlow pre-loads comes as 28x28x1 images.\n",
    "\n",
    "However, the LeNet architecture only accepts 32x32xC images, where C is the number of color channels.\n",
    "\n",
    "In order to reformat the MNIST data into a shape that LeNet will accept, we pad the data with two rows of zeros on the top and bottom, and two columns of zeros on the left and right (28+2+2 = 32).\n",
    "\n",
    "You do not need to modify this section."
   ]
  },
  {
   "cell_type": "code",
   "execution_count": 3,
   "metadata": {},
   "outputs": [
    {
     "name": "stdout",
     "output_type": "stream",
     "text": [
      "Updated Image Shape: (32, 32, 1)\n"
     ]
    }
   ],
   "source": [
    "import numpy as np\n",
    "\n",
    "# Pad images with 0s\n",
    "X_train      = np.pad(X_train, ((0,0),(2,2),(2,2),(0,0)), 'constant')\n",
    "X_validation = np.pad(X_validation, ((0,0),(2,2),(2,2),(0,0)), 'constant')\n",
    "X_test       = np.pad(X_test, ((0,0),(2,2),(2,2),(0,0)), 'constant')\n",
    "    \n",
    "print(\"Updated Image Shape: {}\".format(X_train[0].shape))"
   ]
  },
  {
   "cell_type": "markdown",
   "metadata": {},
   "source": [
    "## Visualize Data\n",
    "\n",
    "View a sample from the dataset.\n",
    "\n",
    "You do not need to modify this section."
   ]
  },
  {
   "cell_type": "code",
   "execution_count": 4,
   "metadata": {
    "collapsed": true
   },
   "outputs": [],
   "source": [
    "import random\n",
    "import numpy as np\n",
    "import matplotlib.pyplot as plt\n",
    "%matplotlib inline\n",
    "\n",
    "def display_images(dataset, n_cols, titles = None, height = 5):\n",
    "    elements_num = len(dataset)\n",
    "    n_rows = math.ceil(elements_num / n_cols) + 1\n",
    "    \n",
    "    plt.figure(figsize = (20, height))\n",
    "    plt.suptitle(\"Slice element {}\".format(dataset[0].shape))\n",
    "    \n",
    "    for i in range(0, elements_num):\n",
    "        element = dataset[i]\n",
    "        depth = element.shape[-1]\n",
    "        \n",
    "        plt.subplot(n_rows, n_cols, i + 1)\n",
    "        plt.axis('off')\n",
    "        \n",
    "        if titles is None:\n",
    "            plt.title('Element ' + str(i))\n",
    "        else:\n",
    "            plt.title(titles[i])\n",
    "            \n",
    "        if depth == 1:\n",
    "            plt.imshow(element.squeeze(), cmap=\"gray\") \n",
    "        else:\n",
    "            plt.imshow(element.squeeze())\n",
    "            \n",
    "    plt.show()\n",
    "    \n",
    "def display_tensor(tensor, n_cols = 6, title = \"Draw tensor\"):\n",
    "    filters = tensor.shape[3]\n",
    "    n_rows = math.ceil(filters / n_cols) + 1\n",
    "    \n",
    "    plt.figure(figsize = (20, 8))\n",
    "    plt.suptitle(title + ', Shape ' + str(tensor.shape))\n",
    "    \n",
    "    for i in range(filters):\n",
    "        element = tensor[0, :, :, i]\n",
    "        \n",
    "        plt.subplot(n_rows, n_cols, i + 1)\n",
    "        plt.axis('off')\n",
    "        plt.title('Iteration ' + str(i))\n",
    "        plt.imshow(element, interpolation = \"nearest\", cmap = \"gray\")\n",
    "        \n",
    "def visualize(x, title):\n",
    "    res = sess.run(x)\n",
    "    display_tensor(res, 6, title = title)"
   ]
  },
  {
   "cell_type": "markdown",
   "metadata": {},
   "source": [
    "## Preprocess Data\n",
    "\n",
    "Shuffle the training data.\n",
    "\n",
    "You do not need to modify this section."
   ]
  },
  {
   "cell_type": "code",
   "execution_count": 5,
   "metadata": {
    "collapsed": true
   },
   "outputs": [],
   "source": [
    "from sklearn.utils import shuffle\n",
    "\n",
    "X_train, y_train = shuffle(X_train, y_train)"
   ]
  },
  {
   "cell_type": "markdown",
   "metadata": {},
   "source": [
    "## Setup TensorFlow\n",
    "The `EPOCH` and `BATCH_SIZE` values affect the training speed and model accuracy.\n",
    "\n",
    "You do not need to modify this section."
   ]
  },
  {
   "cell_type": "code",
   "execution_count": 6,
   "metadata": {
    "collapsed": true
   },
   "outputs": [],
   "source": [
    "import tensorflow as tf\n",
    "\n",
    "EPOCHS = 10\n",
    "BATCH_SIZE = 128"
   ]
  },
  {
   "cell_type": "markdown",
   "metadata": {},
   "source": [
    "## TODO: Implement LeNet-5\n",
    "Implement the [LeNet-5](http://yann.lecun.com/exdb/lenet/) neural network architecture.\n",
    "\n",
    "This is the only cell you need to edit.\n",
    "### Input\n",
    "The LeNet architecture accepts a 32x32xC image as input, where C is the number of color channels. Since MNIST images are grayscale, C is 1 in this case.\n",
    "\n",
    "### Architecture\n",
    "**Layer 1: Convolutional.** The output shape should be 28x28x6.\n",
    "\n",
    "**Activation.** Your choice of activation function.\n",
    "\n",
    "**Pooling.** The output shape should be 14x14x6.\n",
    "\n",
    "**Layer 2: Convolutional.** The output shape should be 10x10x16.\n",
    "\n",
    "**Activation.** Your choice of activation function.\n",
    "\n",
    "**Pooling.** The output shape should be 5x5x16.\n",
    "\n",
    "**Flatten.** Flatten the output shape of the final pooling layer such that it's 1D instead of 3D. The easiest way to do is by using `tf.contrib.layers.flatten`, which is already imported for you.\n",
    "\n",
    "**Layer 3: Fully Connected.** This should have 120 outputs.\n",
    "\n",
    "**Activation.** Your choice of activation function.\n",
    "\n",
    "**Layer 4: Fully Connected.** This should have 84 outputs.\n",
    "\n",
    "**Activation.** Your choice of activation function.\n",
    "\n",
    "**Layer 5: Fully Connected (Logits).** This should have 10 outputs.\n",
    "\n",
    "### Output\n",
    "Return the result of the 2nd fully connected layer."
   ]
  },
  {
   "cell_type": "code",
   "execution_count": 7,
   "metadata": {
    "collapsed": true
   },
   "outputs": [],
   "source": [
    "from tensorflow.contrib.layers import flatten\n",
    "\n",
    "def conv(x, k_size, depth, mu, sigma):\n",
    "    prev_shape = x.get_shape()\n",
    "    prev_depth = prev_shape[-1]\n",
    "\n",
    "    weights = tf.Variable(tf.truncated_normal(shape = [k_size, k_size, int(prev_depth), depth], mean = mu, stddev = sigma))\n",
    "    bias = tf.Variable(tf.truncated_normal([depth]))\n",
    "    conv = tf.nn.conv2d(x, weights, strides = [1, 1, 1, 1], padding = 'VALID')\n",
    "    return tf.nn.bias_add(conv, bias)\n",
    "\n",
    "def relu(x):\n",
    "    return tf.nn.relu(x)\n",
    "\n",
    "def max_pool(x, k_size, stride):\n",
    "    return tf.nn.max_pool(x, ksize = [1, k_size, k_size, 1], strides = [1, stride, stride, 1], padding = 'SAME')\n",
    "    \n",
    "def flatten(x):\n",
    "    shape = x.get_shape()[1:]\n",
    "    return tf.reshape(x, [-1, int(shape[0] * shape[1] * shape[2])])\n",
    "    \n",
    "def fcl(x, out, mu, sigma):\n",
    "    weights = tf.Variable(tf.truncated_normal(shape = [x.get_shape()[1].value, out], mean = mu, stddev = sigma))\n",
    "    bias = tf.Variable(tf.truncated_normal([out]))\n",
    "    return tf.add(tf.matmul(x, weights), bias)\n",
    "\n",
    "def LeNet(x, test = False):    \n",
    "    # X shape = (55000, 32, 32, 1) =7 (batch, height, width, channels)\n",
    "    # Arguments used for tf.truncated_normal, randomly defines variables for the weights and biases for each layer\n",
    "    mu = 0\n",
    "    sigma = 0.1\n",
    "\n",
    "    layer1 = conv(x, 5, 6, mu, sigma) # Layer 1: Convolutional. Input = 32x32x1. Output = 28x28x6.\n",
    "    layer1 = relu(layer1) # Activation.\n",
    "    layer1 = max_pool(layer1, 2, 2) # Pooling. Input = 28x28x6. Output = 14x14x6.\n",
    "    \n",
    "    layer2 = conv(layer1, 5, 16, mu, sigma) # Layer 2: Convolutional. Output = 10x10x16.\n",
    "    layer2 = relu(layer2) # Activation.\n",
    "    layer2 = max_pool(layer2, 2, 2) # Pooling. Input = 10x10x16. Output = 5x5x16.\n",
    "    \n",
    "    flat = flatten(layer2) # Flatten. Input = 5x5x16. Output = 400.\n",
    "    \n",
    "    layer3 = fcl(flat, 120, mu, sigma) # Layer 3: Fully Connected. Input = 400. Output = 120.\n",
    "    layer3 = relu(layer3) # Activation.\n",
    "\n",
    "    layer4 = fcl(layer3, 84, mu, sigma) # Layer 4: Fully Connected. Input = 120. Output = 84.\n",
    "    layer4 = relu(layer4) # Activation.\n",
    "\n",
    "    logits = fcl(layer4, 10, mu, sigma) # Layer 5: Fully Connected. Input = 84. Output = 10.\n",
    "\n",
    "    if test:\n",
    "        return layer1, layer2, flat, layer3, layer4, logits\n",
    "    else:\n",
    "        return logits"
   ]
  },
  {
   "cell_type": "code",
   "execution_count": 8,
   "metadata": {},
   "outputs": [
    {
     "data": {
      "image/png": "[encoded data removed]",
      "text/plain": [
       "<matplotlib.figure.Figure at 0x13fc27828>"
      ]
     },
     "metadata": {},
     "output_type": "display_data"
    },
    {
     "name": "stdout",
     "output_type": "stream",
     "text": [
      "Flat (10, 400)\n",
      "Layer 3 (10, 120)\n",
      "Layer 4 (10, 84)\n",
      "Logits (10, 10)\n"
     ]
    },
    {
     "data": {
      "image/png": "[encoded data removed]",
      "text/plain": [
       "<matplotlib.figure.Figure at 0x14207d2b0>"
      ]
     },
     "metadata": {},
     "output_type": "display_data"
    },
    {
     "data": {
      "image/png": "[encoded data removed]",
      "text/plain": [
       "<matplotlib.figure.Figure at 0x142324a20>"
      ]
     },
     "metadata": {},
     "output_type": "display_data"
    }
   ],
   "source": [
    "import matplotlib.gridspec as gridspec\n",
    "import math\n",
    "\n",
    "x_slice = 10\n",
    "dataset = X_train[0:x_slice]\n",
    "display_images(dataset, 6)\n",
    "dataset = tf.Variable(dataset)\n",
    "layer1, layer2, flat, layer3, layer4, logits = LeNet(dataset, True)\n",
    "\n",
    "with tf.Session() as sess:\n",
    "    sess.run(tf.global_variables_initializer())\n",
    "\n",
    "    res = sess.run(layer1)\n",
    "    display_tensor(res, 6, title = \"Layer 1\")\n",
    "    \n",
    "    res = sess.run(layer2)\n",
    "    display_tensor(res, 6, title = \"Layer 2\")\n",
    "    \n",
    "    res = sess.run(flat)\n",
    "    print(\"Flat\", res.shape)\n",
    "    \n",
    "    res = sess.run(layer3)\n",
    "    print(\"Layer 3\", res.shape)\n",
    "    \n",
    "    res = sess.run(layer4)\n",
    "    print(\"Layer 4\", res.shape)\n",
    "    \n",
    "    res = sess.run(logits)\n",
    "    print(\"Logits\", res.shape)"
   ]
  },
  {
   "cell_type": "markdown",
   "metadata": {},
   "source": [
    "## Features and Labels\n",
    "Train LeNet to classify [MNIST](http://yann.lecun.com/exdb/mnist/) data.\n",
    "\n",
    "`x` is a placeholder for a batch of input images.\n",
    "`y` is a placeholder for a batch of output labels.\n",
    "\n",
    "You do not need to modify this section."
   ]
  },
  {
   "cell_type": "code",
   "execution_count": 10,
   "metadata": {
    "collapsed": true
   },
   "outputs": [],
   "source": [
    "x = tf.placeholder(tf.float32, (None, 32, 32, 1))\n",
    "y = tf.placeholder(tf.int32, (None))\n",
    "one_hot_y = tf.one_hot(y, 10)"
   ]
  },
  {
   "cell_type": "markdown",
   "metadata": {},
   "source": [
    "## Training Pipeline\n",
    "Create a training pipeline that uses the model to classify MNIST data.\n",
    "\n",
    "You do not need to modify this section."
   ]
  },
  {
   "cell_type": "code",
   "execution_count": 11,
   "metadata": {
    "collapsed": true
   },
   "outputs": [],
   "source": [
    "rate = 0.001\n",
    "\n",
    "logits = LeNet(x)\n",
    "cross_entropy = tf.nn.softmax_cross_entropy_with_logits(labels=one_hot_y, logits=logits)\n",
    "loss_operation = tf.reduce_mean(cross_entropy)\n",
    "optimizer = tf.train.AdamOptimizer(learning_rate = rate)\n",
    "training_operation = optimizer.minimize(loss_operation)"
   ]
  },
  {
   "cell_type": "markdown",
   "metadata": {},
   "source": [
    "## Model Evaluation\n",
    "Evaluate how well the loss and accuracy of the model for a given dataset.\n",
    "\n",
    "You do not need to modify this section."
   ]
  },
  {
   "cell_type": "code",
   "execution_count": 12,
   "metadata": {
    "collapsed": true
   },
   "outputs": [],
   "source": [
    "correct_prediction = tf.equal(tf.argmax(logits, 1), tf.argmax(one_hot_y, 1))\n",
    "accuracy_operation = tf.reduce_mean(tf.cast(correct_prediction, tf.float32))\n",
    "saver = tf.train.Saver()\n",
    "\n",
    "def evaluate(X_data, y_data):\n",
    "    num_examples = len(X_data)\n",
    "    total_accuracy = 0\n",
    "    sess = tf.get_default_session()\n",
    "    for offset in range(0, num_examples, BATCH_SIZE):\n",
    "        batch_x, batch_y = X_data[offset:offset+BATCH_SIZE], y_data[offset:offset+BATCH_SIZE]\n",
    "        accuracy = sess.run(accuracy_operation, feed_dict={x: batch_x, y: batch_y})\n",
    "        total_accuracy += (accuracy * len(batch_x))\n",
    "    return total_accuracy / num_examples\n",
    "\n",
    "def evaluate_draw(X_data, y_data):\n",
    "    sess = tf.get_default_session()\n",
    "    res = [tf.argmax(logits, 1), tf.argmax(one_hot_y, 1)]\n",
    "    result = sess.run(res, feed_dict={x: X_data, y: y_data})\n",
    "    \n",
    "    titles = []\n",
    "    \n",
    "    for predicted, truth in zip(result[0], result[1]):\n",
    "        titles.append('Logit {}, Truth {}'.format(predicted, truth))\n",
    "        \n",
    "    display_images(X_data, 6, titles = titles, height = 15)"
   ]
  },
  {
   "cell_type": "markdown",
   "metadata": {},
   "source": [
    "## Train the Model\n",
    "Run the training data through the training pipeline to train the model.\n",
    "\n",
    "Before each epoch, shuffle the training set.\n",
    "\n",
    "After each epoch, measure the loss and accuracy of the validation set.\n",
    "\n",
    "Save the model after training.\n",
    "\n",
    "You do not need to modify this section."
   ]
  },
  {
   "cell_type": "code",
   "execution_count": 13,
   "metadata": {},
   "outputs": [
    {
     "name": "stdout",
     "output_type": "stream",
     "text": [
      "Training...\n",
      "\n",
      "EPOCH 1 ...\n",
      "Validation Accuracy = 0.935\n",
      "\n",
      "EPOCH 2 ...\n",
      "Validation Accuracy = 0.968\n",
      "\n",
      "EPOCH 3 ...\n",
      "Validation Accuracy = 0.974\n",
      "\n",
      "EPOCH 4 ...\n",
      "Validation Accuracy = 0.981\n",
      "\n",
      "EPOCH 5 ...\n",
      "Validation Accuracy = 0.980\n",
      "\n",
      "EPOCH 6 ...\n",
      "Validation Accuracy = 0.981\n",
      "\n",
      "EPOCH 7 ...\n",
      "Validation Accuracy = 0.980\n",
      "\n",
      "EPOCH 8 ...\n",
      "Validation Accuracy = 0.983\n",
      "\n",
      "EPOCH 9 ...\n",
      "Validation Accuracy = 0.986\n",
      "\n",
      "EPOCH 10 ...\n",
      "Validation Accuracy = 0.988\n",
      "\n",
      "Model saved\n",
      "Function run_session called 1 times.\n",
      "Execution time max: 465.396, average: 465.396\n"
     ]
    }
   ],
   "source": [
    "@profile\n",
    "def run_session(sess, X_train, y_train):\n",
    "    sess.run(tf.global_variables_initializer())\n",
    "    num_examples = len(X_train)\n",
    "\n",
    "    print(\"Training...\")\n",
    "    print()\n",
    "    for i in range(EPOCHS):\n",
    "        X_train, y_train = shuffle(X_train, y_train)\n",
    "        \n",
    "        for offset in range(0, num_examples, BATCH_SIZE):\n",
    "            end = offset + BATCH_SIZE\n",
    "            batch_x, batch_y = X_train[offset:end], y_train[offset:end]\n",
    "            sess.run(training_operation, feed_dict={x: batch_x, y: batch_y})\n",
    "\n",
    "        validation_accuracy = evaluate(X_validation, y_validation)\n",
    "        print(\"EPOCH {} ...\".format(i+1))\n",
    "        print(\"Validation Accuracy = {:.3f}\".format(validation_accuracy))\n",
    "        print()\n",
    "        \n",
    "    saver.save(sess, './lenet')\n",
    "    print(\"Model saved\")\n",
    "    \n",
    "with tf.Session() as sess:\n",
    "    run_session(sess, X_train, y_train)\n",
    "    \n",
    "print_prof_data()"
   ]
  },
  {
   "cell_type": "markdown",
   "metadata": {},
   "source": [
    "## Evaluate the Model\n",
    "Once you are completely satisfied with your model, evaluate the performance of the model on the test set.\n",
    "\n",
    "Be sure to only do this once!\n",
    "\n",
    "If you were to measure the performance of your trained model on the test set, then improve your model, and then measure the performance of your model on the test set again, that would invalidate your test results. You wouldn't get a true measure of how well your model would perform against real data.\n",
    "\n",
    "You do not need to modify this section."
   ]
  },
  {
   "cell_type": "code",
   "execution_count": 14,
   "metadata": {},
   "outputs": [
    {
     "name": "stdout",
     "output_type": "stream",
     "text": [
      "Test Accuracy = 0.985\n"
     ]
    },
    {
     "data": {
      "image/png": "[encoded data removed]",
      "text/plain": [
       "<matplotlib.figure.Figure at 0x124bc7438>"
      ]
     },
     "metadata": {},
     "output_type": "display_data"
    }
   ],
   "source": [
    "with tf.Session() as sess:\n",
    "    saver.restore(sess, tf.train.latest_checkpoint('.'))\n",
    "    test_accuracy = evaluate(X_test, y_test)\n",
    "    print(\"Test Accuracy = {:.3f}\".format(test_accuracy))\n",
    "    \n",
    "    evaluate_draw(X_test[:30], y_test[:30])"
   ]
  },
  {
   "cell_type": "code",
   "execution_count": null,
   "metadata": {
    "collapsed": true
   },
   "outputs": [],
   "source": []
  }
 ],
 "metadata": {
  "anaconda-cloud": {},
  "kernelspec": {
   "display_name": "Python 3",
   "language": "python",
   "name": "python3"
  },
  "language_info": {
   "codemirror_mode": {
    "name": "ipython",
    "version": 3
   },
   "file_extension": ".py",
   "mimetype": "text/x-python",
   "name": "python",
   "nbconvert_exporter": "python",
   "pygments_lexer": "ipython3",
   "version": "3.5.2"
  },
  "widgets": {
   "state": {},
   "version": "1.1.2"
  }
 },
 "nbformat": 4,
 "nbformat_minor": 1
}
